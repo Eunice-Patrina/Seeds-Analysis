{
 "cells": [
  {
   "cell_type": "markdown",
   "metadata": {
    "application/vnd.databricks.v1+cell": {
     "cellMetadata": {},
     "inputWidgets": {},
     "nuid": "1f82dbb5-2ced-4c1b-a5d0-2eb4a8a03dc9",
     "showTitle": false,
     "title": ""
    }
   },
   "source": [
    "#seeds\n",
    "Measurements of geometrical properties of kernels belonging to three different varieties of wheat. A soft X-ray technique and GRAINS package were used to construct all seven, real-valued attributes."
   ]
  },
  {
   "cell_type": "markdown",
   "metadata": {
    "application/vnd.databricks.v1+cell": {
     "cellMetadata": {},
     "inputWidgets": {},
     "nuid": "d4db11f9-fc0a-48f5-9e64-21cfefc483fd",
     "showTitle": false,
     "title": ""
    }
   },
   "source": [
    "## Initilize Spark"
   ]
  },
  {
   "cell_type": "code",
   "execution_count": 0,
   "metadata": {
    "application/vnd.databricks.v1+cell": {
     "cellMetadata": {
      "byteLimit": 2048000,
      "rowLimit": 10000
     },
     "inputWidgets": {},
     "nuid": "46e62b99-caf0-4e91-91b9-1dd59f5a5aac",
     "showTitle": false,
     "title": ""
    }
   },
   "outputs": [],
   "source": [
    "import pyspark"
   ]
  },
  {
   "cell_type": "markdown",
   "metadata": {
    "application/vnd.databricks.v1+cell": {
     "cellMetadata": {},
     "inputWidgets": {},
     "nuid": "ea62197c-7837-401b-ae2c-0f9644668b7b",
     "showTitle": false,
     "title": ""
    }
   },
   "source": [
    "## Load the data"
   ]
  },
  {
   "cell_type": "code",
   "execution_count": 0,
   "metadata": {
    "application/vnd.databricks.v1+cell": {
     "cellMetadata": {
      "byteLimit": 2048000,
      "rowLimit": 10000
     },
     "inputWidgets": {},
     "nuid": "2269b43b-ee76-4d5f-820f-f00563b74e64",
     "showTitle": false,
     "title": ""
    }
   },
   "outputs": [],
   "source": [
    "df = sqlContext.sql(\"SELECT * FROM  seed_csv\")"
   ]
  },
  {
   "cell_type": "code",
   "execution_count": 0,
   "metadata": {
    "application/vnd.databricks.v1+cell": {
     "cellMetadata": {
      "byteLimit": 2048000,
      "rowLimit": 10000
     },
     "inputWidgets": {},
     "nuid": "50266a0c-b2ba-4f51-a41e-60c6c36f3718",
     "showTitle": false,
     "title": ""
    }
   },
   "outputs": [
    {
     "output_type": "stream",
     "name": "stdout",
     "output_type": "stream",
     "text": [
      "Out[3]: 210"
     ]
    }
   ],
   "source": [
    "df.count()"
   ]
  },
  {
   "cell_type": "code",
   "execution_count": 0,
   "metadata": {
    "application/vnd.databricks.v1+cell": {
     "cellMetadata": {
      "byteLimit": 2048000,
      "rowLimit": 10000
     },
     "inputWidgets": {},
     "nuid": "c87d873d-6ef8-4a8d-a4db-c2db55897697",
     "showTitle": false,
     "title": ""
    }
   },
   "outputs": [],
   "source": [
    "from pyspark.ml.linalg import Vectors\n",
    "from pyspark.ml.feature import VectorAssembler"
   ]
  },
  {
   "cell_type": "code",
   "execution_count": 0,
   "metadata": {
    "application/vnd.databricks.v1+cell": {
     "cellMetadata": {
      "byteLimit": 2048000,
      "rowLimit": 10000
     },
     "inputWidgets": {},
     "nuid": "be6f5057-b037-48e5-8476-8501a5300e9d",
     "showTitle": false,
     "title": ""
    }
   },
   "outputs": [
    {
     "output_type": "stream",
     "name": "stdout",
     "output_type": "stream",
     "text": [
      "Out[5]: ['area',\n 'perimeter',\n 'compactness',\n 'kernel_length',\n 'kernel_width',\n 'asymmentry_coefficient',\n 'groove_length']"
     ]
    }
   ],
   "source": [
    "df.columns"
   ]
  },
  {
   "cell_type": "markdown",
   "metadata": {
    "application/vnd.databricks.v1+cell": {
     "cellMetadata": {},
     "inputWidgets": {},
     "nuid": "7785ba06-11c3-4ed8-ab14-69b46c26c2c0",
     "showTitle": false,
     "title": ""
    }
   },
   "source": [
    "## Create Feature Vector"
   ]
  },
  {
   "cell_type": "code",
   "execution_count": 0,
   "metadata": {
    "application/vnd.databricks.v1+cell": {
     "cellMetadata": {
      "byteLimit": 2048000,
      "rowLimit": 10000
     },
     "inputWidgets": {},
     "nuid": "dbbfaaed-2176-45d9-8f61-76ebe6eac3f1",
     "showTitle": false,
     "title": ""
    }
   },
   "outputs": [],
   "source": [
    "col = ['area', 'perimeter', 'compactness', 'kernel_length', 'kernel_width', 'asymmentry_coefficient', 'groove_length']\n",
    "\n",
    "assembler = VectorAssembler(inputCols=col, outputCol=\"features\")"
   ]
  },
  {
   "cell_type": "code",
   "execution_count": 0,
   "metadata": {
    "application/vnd.databricks.v1+cell": {
     "cellMetadata": {
      "byteLimit": 2048000,
      "rowLimit": 10000
     },
     "inputWidgets": {},
     "nuid": "26856e10-2229-4dd5-9a6a-d66cb727ffe4",
     "showTitle": false,
     "title": ""
    }
   },
   "outputs": [],
   "source": [
    "final_data  = assembler.transform(df)"
   ]
  },
  {
   "cell_type": "markdown",
   "metadata": {
    "application/vnd.databricks.v1+cell": {
     "cellMetadata": {},
     "inputWidgets": {},
     "nuid": "edd543c0-a4e1-4cc1-bad5-6301cbd51bb0",
     "showTitle": false,
     "title": ""
    }
   },
   "source": [
    "## StandardScaler"
   ]
  },
  {
   "cell_type": "code",
   "execution_count": 0,
   "metadata": {
    "application/vnd.databricks.v1+cell": {
     "cellMetadata": {
      "byteLimit": 2048000,
      "rowLimit": 10000
     },
     "inputWidgets": {},
     "nuid": "32e350d6-0daf-48cc-81ee-f35195bb58a0",
     "showTitle": false,
     "title": ""
    }
   },
   "outputs": [],
   "source": [
    "from pyspark.ml.feature import StandardScaler"
   ]
  },
  {
   "cell_type": "code",
   "execution_count": 0,
   "metadata": {
    "application/vnd.databricks.v1+cell": {
     "cellMetadata": {
      "byteLimit": 2048000,
      "rowLimit": 10000
     },
     "inputWidgets": {},
     "nuid": "dcc74c68-db66-4d20-accd-131e4fcc0ea0",
     "showTitle": false,
     "title": ""
    }
   },
   "outputs": [],
   "source": [
    "scaler = StandardScaler(inputCol=\"features\", outputCol=\"scaledFeatures\")"
   ]
  },
  {
   "cell_type": "code",
   "execution_count": 0,
   "metadata": {
    "application/vnd.databricks.v1+cell": {
     "cellMetadata": {
      "byteLimit": 2048000,
      "rowLimit": 10000
     },
     "inputWidgets": {},
     "nuid": "20609010-fa2d-4014-8b32-61bfbb92f16e",
     "showTitle": false,
     "title": ""
    }
   },
   "outputs": [],
   "source": [
    "scaler_model = scaler.fit(final_data)"
   ]
  },
  {
   "cell_type": "code",
   "execution_count": 0,
   "metadata": {
    "application/vnd.databricks.v1+cell": {
     "cellMetadata": {
      "byteLimit": 2048000,
      "rowLimit": 10000
     },
     "inputWidgets": {},
     "nuid": "a5f735bc-3fa1-44ec-b0cc-31ffddf07170",
     "showTitle": false,
     "title": ""
    }
   },
   "outputs": [],
   "source": [
    "final_data = scaler_model.transform(final_data)"
   ]
  },
  {
   "cell_type": "markdown",
   "metadata": {
    "application/vnd.databricks.v1+cell": {
     "cellMetadata": {
      "byteLimit": 2048000,
      "rowLimit": 10000
     },
     "inputWidgets": {},
     "nuid": "72b14979-d579-4f0e-a3e6-5283be97a9fe",
     "showTitle": false,
     "title": ""
    }
   },
   "source": [
    "# K means"
   ]
  },
  {
   "cell_type": "code",
   "execution_count": 0,
   "metadata": {
    "application/vnd.databricks.v1+cell": {
     "cellMetadata": {
      "byteLimit": 2048000,
      "rowLimit": 10000
     },
     "inputWidgets": {},
     "nuid": "b4ad5344-0cc7-4784-97ac-4c24411ac00f",
     "showTitle": false,
     "title": ""
    }
   },
   "outputs": [],
   "source": [
    "from pyspark.ml.clustering import KMeans"
   ]
  },
  {
   "cell_type": "code",
   "execution_count": 0,
   "metadata": {
    "application/vnd.databricks.v1+cell": {
     "cellMetadata": {
      "byteLimit": 2048000,
      "rowLimit": 10000
     },
     "inputWidgets": {},
     "nuid": "e254bd59-326c-41eb-b73a-945fabc18480",
     "showTitle": false,
     "title": ""
    }
   },
   "outputs": [],
   "source": [
    "from pyspark.ml.evaluation import ClusteringEvaluator"
   ]
  },
  {
   "cell_type": "code",
   "execution_count": 0,
   "metadata": {
    "application/vnd.databricks.v1+cell": {
     "cellMetadata": {
      "byteLimit": 2048000,
      "rowLimit": 10000
     },
     "inputWidgets": {},
     "nuid": "6f11af6a-86d8-409a-bb88-262933b3c8fc",
     "showTitle": false,
     "title": ""
    }
   },
   "outputs": [],
   "source": [
    "kmeans = KMeans(featuresCol='features', k=3)"
   ]
  },
  {
   "cell_type": "code",
   "execution_count": 0,
   "metadata": {
    "application/vnd.databricks.v1+cell": {
     "cellMetadata": {
      "byteLimit": 2048000,
      "rowLimit": 10000
     },
     "inputWidgets": {},
     "nuid": "d779bb89-8d84-4071-890d-dadc3ac2d0b0",
     "showTitle": false,
     "title": ""
    }
   },
   "outputs": [],
   "source": [
    "model = kmeans.fit(final_data)"
   ]
  },
  {
   "cell_type": "code",
   "execution_count": 0,
   "metadata": {
    "application/vnd.databricks.v1+cell": {
     "cellMetadata": {
      "byteLimit": 2048000,
      "rowLimit": 10000
     },
     "inputWidgets": {},
     "nuid": "c8dcad0b-c5f2-479a-89f2-cb99e3ebe391",
     "showTitle": false,
     "title": ""
    }
   },
   "outputs": [],
   "source": [
    "prediction = model.transform(final_data)"
   ]
  },
  {
   "cell_type": "code",
   "execution_count": 0,
   "metadata": {
    "application/vnd.databricks.v1+cell": {
     "cellMetadata": {
      "byteLimit": 2048000,
      "rowLimit": 10000
     },
     "inputWidgets": {},
     "nuid": "3c262e1b-e0a1-4133-a2a7-6b1bfbe429e2",
     "showTitle": false,
     "title": ""
    }
   },
   "outputs": [
    {
     "output_type": "stream",
     "name": "stdout",
     "output_type": "stream",
     "text": [
      "Silhouette with squared euclidean distance = 0.6583885316689585\n"
     ]
    }
   ],
   "source": [
    "# Evaluate clustering by computing Silhouette score\n",
    "evaluator = ClusteringEvaluator()\n",
    "\n",
    "silhouette = evaluator.evaluate(prediction)\n",
    "print(\"Silhouette with squared euclidean distance = \" + str(silhouette))"
   ]
  },
  {
   "cell_type": "markdown",
   "metadata": {
    "application/vnd.databricks.v1+cell": {
     "cellMetadata": {
      "byteLimit": 2048000,
      "rowLimit": 10000
     },
     "inputWidgets": {},
     "nuid": "0844927b-c333-4fad-8948-515f0e07223f",
     "showTitle": false,
     "title": ""
    }
   },
   "source": [
    "[18.20328947 16.06855263  0.88462105  6.12059211  3.66952632  3.40502763\n",
    "  5.95847368]\n",
    "  \n",
    "[12.94425373 13.70328358  0.86327239  5.34945522  3.02554478  3.86761269\n",
    "  5.09590299]\n",
    "\n",
    "  0.7161978322145462"
   ]
  },
  {
   "cell_type": "markdown",
   "metadata": {
    "application/vnd.databricks.v1+cell": {
     "cellMetadata": {},
     "inputWidgets": {},
     "nuid": "c7d29f87-45e4-4737-bcb6-03930b114a1c",
     "showTitle": false,
     "title": ""
    }
   },
   "source": [
    "0.6583885316689585\n",
    "\n",
    "[14.81910448 14.53716418  0.88052239  5.59101493  3.29935821  2.70658507\n",
    "  5.21753731]\n",
    "\n",
    "[11.98865854 13.28439024  0.85273659  5.22742683  2.88008537  4.58392683\n",
    "  5.0742439 ]\n",
    "  \n",
    "[18.72180328 16.29737705  0.88508689  6.20893443  3.72267213  3.60359016\n",
    "  6.06609836]"
   ]
  },
  {
   "cell_type": "code",
   "execution_count": 0,
   "metadata": {
    "application/vnd.databricks.v1+cell": {
     "cellMetadata": {
      "byteLimit": 2048000,
      "rowLimit": 10000
     },
     "inputWidgets": {},
     "nuid": "c40bb501-50ca-4a9d-9f80-5f8aa52032a1",
     "showTitle": false,
     "title": ""
    }
   },
   "outputs": [
    {
     "output_type": "stream",
     "name": "stdout",
     "output_type": "stream",
     "text": [
      "Cluster Centers: \n[14.81910448 14.53716418  0.88052239  5.59101493  3.29935821  2.70658507\n  5.21753731]\n[11.98865854 13.28439024  0.85273659  5.22742683  2.88008537  4.58392683\n  5.0742439 ]\n[18.72180328 16.29737705  0.88508689  6.20893443  3.72267213  3.60359016\n  6.06609836]\n"
     ]
    }
   ],
   "source": [
    "centers = model.clusterCenters()\n",
    "print(\"Cluster Centers: \")\n",
    "for center in centers:\n",
    "    print(center)"
   ]
  },
  {
   "cell_type": "code",
   "execution_count": 0,
   "metadata": {
    "application/vnd.databricks.v1+cell": {
     "cellMetadata": {
      "byteLimit": 2048000,
      "rowLimit": 10000
     },
     "inputWidgets": {},
     "nuid": "4e19415d-35fd-435c-ad51-27738522a5bd",
     "showTitle": false,
     "title": ""
    }
   },
   "outputs": [],
   "source": [
    "silhouettes = []\n",
    "for i in range(2, 10):\n",
    "    kmeans = KMeans(featuresCol='features', k=i)\n",
    "    model = kmeans.fit(final_data)\n",
    "    prediction = model.transform(final_data)\n",
    "    silhouette = evaluator.evaluate(prediction)\n",
    "    silhouettes.append(silhouette)"
   ]
  },
  {
   "cell_type": "code",
   "execution_count": 0,
   "metadata": {
    "application/vnd.databricks.v1+cell": {
     "cellMetadata": {
      "byteLimit": 2048000,
      "rowLimit": 10000
     },
     "inputWidgets": {},
     "nuid": "bdcb6491-d8cc-4a2c-90ae-4e328babac55",
     "showTitle": false,
     "title": ""
    }
   },
   "outputs": [
    {
     "output_type": "display_data",
     "data": {
      "image/png": "[encoded data removed]"
     },
     "metadata": {
      "application/vnd.databricks.v1+output": {
       "addedWidgets": {},
       "arguments": {},
       "data": "data:image/png;base64,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\n",
       "datasetInfos": [],
       "metadata": {},
       "removedWidgets": [],
       "type": "image"
      }
     },
     "output_type": "display_data"
    }
   ],
   "source": [
    "import matplotlib.pyplot as plt\n",
    "  \n",
    "plt.plot(range(2, 10),silhouettes)\n",
    "plt.xlabel('k')\n",
    "plt.ylabel('silhouette score')\n",
    "plt.title('Silhouette Score')\n",
    "plt.show()"
   ]
  }
 ],
 "metadata": {
  "application/vnd.databricks.v1+notebook": {
   "dashboards": [],
   "language": "python",
   "notebookMetadata": {
    "pythonIndentUnit": 4
   },
   "notebookName": "seeds",
   "widgets": {}
  }
 },
 "nbformat": 4,
 "nbformat_minor": 0
}
